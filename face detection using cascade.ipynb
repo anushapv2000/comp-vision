{
 "cells": [
  {
   "cell_type": "code",
   "execution_count": 1,
   "id": "industrial-archives",
   "metadata": {},
   "outputs": [],
   "source": [
    "import cv2 \n",
    "import numpy as np\n",
    "import os"
   ]
  },
  {
   "cell_type": "code",
   "execution_count": 2,
   "id": "impaired-wesley",
   "metadata": {},
   "outputs": [],
   "source": [
    "\n",
    "cascPath=os.path.dirname(cv2.__file__)+\"/data/haarcascade_frontalface_default.xml\"\n",
    "faceCascade = cv2.CascadeClassifier(cascPath)\n",
    "eyePath=os.path.dirname(cv2.__file__)+\"/data/haarcascade_eye.xml\"\n",
    "eye_cascade=cv2.CascadeClassifier(eyePath)"
   ]
  },
  {
   "cell_type": "code",
   "execution_count": 10,
   "id": "liked-theta",
   "metadata": {},
   "outputs": [],
   "source": [
    "video_capture = cv2.VideoCapture(0)\n",
    "\n",
    "while True:\n",
    "    val, img = video_capture.read()\n",
    "    gray = cv2.cvtColor(img, cv2.COLOR_BGR2GRAY)\n",
    "    faces = faceCascade.detectMultiScale(\n",
    "        gray,\n",
    "        scaleFactor=1.3,\n",
    "        minNeighbors=5\n",
    "    )\n",
    "\n",
    "    # Draw a rectangle around the faces\n",
    "    for (x, y, w, h) in faces:\n",
    "        cv2.rectangle(img, (x, y), (x+w, y+h), (0, 255, 0), 2)\n",
    "        img_gray = gray[y:y+h, x:x+w]\n",
    "        img_color = img[y:y+h, x:x+w]\n",
    "        eye = eye_cascade.detectMultiScale(img_gray)\n",
    "        for (x,y,w,h) in eye:\n",
    "            cv2.rectangle(img_color,(x,y),(x+w,y+h),(255,0,0))\n",
    "    cv2.imshow('img', img)\n",
    "    if cv2.waitKey(1) & 0xFF == ord('q'):\n",
    "        break\n",
    "video_capture.release()\n",
    "cv2.destroyAllWindows()"
   ]
  },
  {
   "cell_type": "code",
   "execution_count": null,
   "id": "blind-official",
   "metadata": {},
   "outputs": [],
   "source": []
  }
 ],
 "metadata": {
  "kernelspec": {
   "display_name": "Python 3",
   "language": "python",
   "name": "python3"
  },
  "language_info": {
   "codemirror_mode": {
    "name": "ipython",
    "version": 3
   },
   "file_extension": ".py",
   "mimetype": "text/x-python",
   "name": "python",
   "nbconvert_exporter": "python",
   "pygments_lexer": "ipython3",
   "version": "3.8.5"
  }
 },
 "nbformat": 4,
 "nbformat_minor": 5
}
